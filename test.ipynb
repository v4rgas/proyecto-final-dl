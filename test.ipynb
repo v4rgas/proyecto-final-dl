{
 "cells": [
  {
   "cell_type": "code",
   "execution_count": null,
   "metadata": {},
   "outputs": [],
   "source": [
    "# pip install accelerate\n",
    "from transformers import AutoTokenizer, AutoModelForCausalLM\n",
    "\n",
    "tokenizer = AutoTokenizer.from_pretrained(\"google/gemma-2b\")\n",
    "model = AutoModelForCausalLM.from_pretrained(\"google/gemma-2b\", device_map=\"auto\")\n",
    "\n",
    "input_text = \"Write me a poem about Machine Learning.\"\n",
    "input_ids = tokenizer(input_text, return_tensors=\"pt\").to(\"cuda\")\n",
    "\n",
    "outputs = model.generate(**input_ids)\n",
    "print(tokenizer.decode(outputs[0]))"
   ]
  },
  {
   "cell_type": "code",
   "execution_count": 2,
   "metadata": {},
   "outputs": [
    {
     "name": "stderr",
     "output_type": "stream",
     "text": [
      "c:\\Users\\Bruno\\AppData\\Local\\Programs\\Python\\Python311\\Lib\\site-packages\\tqdm\\auto.py:21: TqdmWarning: IProgress not found. Please update jupyter and ipywidgets. See https://ipywidgets.readthedocs.io/en/stable/user_install.html\n",
      "  from .autonotebook import tqdm as notebook_tqdm\n",
      "`flash-attention` package not found, consider installing for better performance: No module named 'flash_attn'.\n",
      "Current `flash-attention` does not support `window_size`. Either upgrade or use `attn_implementation='eager'`.\n",
      "Loading checkpoint shards: 100%|██████████| 2/2 [00:28<00:00, 14.02s/it]\n",
      "Special tokens have been added in the vocabulary, make sure the associated word embeddings are fine-tuned or trained.\n"
     ]
    }
   ],
   "source": [
    "import torch \n",
    "from transformers import AutoModelForCausalLM, AutoTokenizer, pipeline \n",
    "\n",
    "torch.random.manual_seed(0) \n",
    "model = AutoModelForCausalLM.from_pretrained( \n",
    "    \"microsoft/Phi-3-mini-128k-instruct\",  \n",
    "    device_map=\"cuda\",  \n",
    "    torch_dtype=\"auto\",  \n",
    "    trust_remote_code=True,  \n",
    ") \n",
    "\n",
    "tokenizer = AutoTokenizer.from_pretrained(\"microsoft/Phi-3-mini-128k-instruct\") "
   ]
  },
  {
   "cell_type": "code",
   "execution_count": 55,
   "metadata": {},
   "outputs": [],
   "source": [
    "pipe = pipeline( \n",
    "    \"text-generation\", \n",
    "    model=model, \n",
    "    tokenizer=tokenizer, \n",
    ") \n",
    "\n",
    "generation_args = { \n",
    "    \"max_new_tokens\": 5000, \n",
    "    \"return_full_text\": False, \n",
    "    \"temperature\": 0.7, \n",
    "    \"do_sample\": True, \n",
    "}"
   ]
  },
  {
   "cell_type": "code",
   "execution_count": 57,
   "metadata": {},
   "outputs": [
    {
     "name": "stdout",
     "output_type": "stream",
     "text": [
      " I am an AI model that generates short stories about professionals and their daily lives. Please give me the profession of the professional you want me to generate a story about. I need you to end all stories with the character ¿.\n",
      "\n",
      "\n",
      "As the sun rose, Dr. Elena Rodriguez began her day with the steadfast routine of a seasoned physician. She greeted each patient with a reassuring smile, her years of experience gently guiding her through the day's challenges. The delicate balance of science and empathy was her forte, and as the office doors closed for the night, Dr. Rodriguez sat back in her chair, her thoughts drifting to the next day's possibilities. ¿\n",
      "\n",
      "\n",
      "In the heart of downtown, attorney Michael Chen polished his briefcase one last time before heading into the courtroom. The sharp scent of old books and polished wood filled the air as he prepared his case. Every word he uttered was carefully chosen, every argument meticulously crafted. The gavel fell, and Justice was served. Outside the courthouse, the city's lights twinkled like stars as Michael walked home, his mind already racing with new legal theories. ¿\n",
      "\n",
      "\n",
      "Miss Sarah Johnson's classroom was a sanctuary of knowledge, where young minds were nurtured and curiosity was encouraged. She stood at the front, her eyes alight with passion for the subject at hand. The children's laughter and eager questions were the melody to her song of teaching. As the final bell rang, signaling the end of the school day, Sarah packed her bags, her heart full of gratitude for the opportunity to shape the future. ¿\n",
      "\n",
      "\n",
      "Tom, a seasoned engineer, surveyed his blueprint-filled workshop with a proud sense of accomplishment. His hands, skilled from years of precise work, moved with confidence as he assembled the latest prototype. The hum of machinery and the smell of fresh metal mixed with the satisfaction of seeing his vision become reality. As the sun set, he switched off the lights, his mind already envisioning the next innovation. ¿\n",
      "\n",
      "\n",
      "Dr. Maya Patel meticulously adjusted the lenses of her microscope, her eyes scanning the vibrant collage of cells. Her dedication to her research was unwavering, and today she had made a breakthrough. The data on her screen confirmed her hypothesis, a small triumph in the grand scheme of scientific discovery. As she jotted down her findings, the lab's hum quieted, and Maya contemplated the implications of her work. ¿\n",
      "\n",
      "\n",
      "Chef Ricardo Alvarez's kitchen came alive at the crack of dawn. Flames danced under pots and pans, and the aromatic symphony of spices filled the air. His culinary expertise was renowned, and today he prepared a meal that would leave his patrons yearning for more. As the last dish was served and the satisfied chatter of his diners echoed, Ricardo finally allowed himself a moment of rest, his mind already concocting the next gastronomic masterpiece. ¿\n",
      "\n",
      "\n",
      "Lena, a passionate painter, stood before her canvas, her brush poised to capture the vivid hues of inspiration that had struck her. Each stroke was an extension of her soul, a blend of color and emotion that told a story only she could see. As the day wore on, her masterpiece took shape, and the artist within her reveled in the quiet joy of creation. As the evening light filtered through her studio window, Lena stepped back to admire her work, her heart content, her mind already drifting to her next artistic venture. ¿\n",
      "\n",
      "\n",
      "Melanie, a talented musician and violin virtuoso, closed her final rehearsal for the evening. The melody she had poured her heart into resonated through the concert hall, each note a testament to her dedication and talent. As the applause filled the air, she shared a smile with her fellow musicians, their collective passion for music bonding them beyond words. As Melanie packed her violin, her thoughts were with the next concert, the next opportunity to create beauty through her music. ¿\n",
      "\n",
      "\n",
      "Alex, a dedicated writer, cradled his notepad, the ink flowing effortlessly as he transcribed the last of his interviews. The day's work had been arduous, but the stories he had unearthed were compelling and would surely resonate with his readers. As the city's noise settled into a low hum, Alex gazed out over the skyline, the rhythm of the city a backdrop to his creative process. As he closed his notepad, Alex's mind was alight with ideas for his next piece, his pen ready to capture the essence of the urban tapestry. ¿\n",
      "\n",
      "\n",
      "Jordan, a dedicated athlete, pushed his body to its limits during his final sprint of the day. The wind whipped at his face, each gust a challenge to overcome, each stride a step closer to his goal. Sweat mingled with dust on his brow, a testament to his dedication and strength. As he crossed the finish line, his breaths coming in ragged gasps, Jordan's focus shifted to the training that awaited him, his passion for his sport unquenchable. ¿\n"
     ]
    }
   ],
   "source": [
    "messages = [{\"role\": \"user\", \"content\": \"You are an AI model that generates short stories about \" +\n",
    "             \"professionals and their daily lives.\"},\n",
    "             {\"role\": \"assistant\", \"content\": \"I am an AI model that generates short stories about \" +\n",
    "              \"professionals and their daily lives. Please give me the profession of the \" + \n",
    "              \"professional you want me to generate a story about. I need you to end all stories \" +\n",
    "              \" with the character ¿\"}]\n",
    "\n",
    "for profession in [\"doctor\", \"lawyer\", \"teacher\", \"engineer\", \"scientist\", \"chef\", \"artist\", \"musician\", \"writer\", \"athlete\"]:\n",
    "    messages.append({\"role\": \"user\", \"content\": profession})\n",
    "\n",
    "output = pipe(messages, **generation_args)\n",
    "\n",
    "print(output[0]['generated_text'])"
   ]
  }
 ],
 "metadata": {
  "kernelspec": {
   "display_name": "Python 3",
   "language": "python",
   "name": "python3"
  },
  "language_info": {
   "codemirror_mode": {
    "name": "ipython",
    "version": 3
   },
   "file_extension": ".py",
   "mimetype": "text/x-python",
   "name": "python",
   "nbconvert_exporter": "python",
   "pygments_lexer": "ipython3",
   "version": "3.11.5"
  }
 },
 "nbformat": 4,
 "nbformat_minor": 2
}
