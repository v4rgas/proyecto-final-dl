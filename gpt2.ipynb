{
 "cells": [
  {
   "cell_type": "code",
   "execution_count": 33,
   "metadata": {},
   "outputs": [
    {
     "name": "stdout",
     "output_type": "stream",
     "text": [
      "<|system|>\n",
      "You are an AI model that generates three sentence stories about professionals.             You will receive a list of professions and you have to generate a story for each one.</s>\n",
      "<|user|>\n",
      "['doctor', 'lawyer', 'teacher', 'engineer', 'scientist', 'chef', 'artist', 'musician', 'writer', 'athlete']</s>\n",
      "<|assistant|>\n",
      "1. Doctor: \"Dr. Smith had always dreamed of becoming a doctor, but he knew that the road to success was not an easy one. After years of studying and training, he finally opened his own medical practice, and he was overjoyed to see the positive impact it was having on his patients. Dr. Smith had always been a perfectionist, and he was constantly striving to improve his skills and knowledge. He would often spend hours researching new treatments and techniques, always seeking to better serve his patients.\"\n",
      "\n",
      "2. Lawyer: \"Jane had always been passionate about law, but it had been a daunting and challenging pursuit. She had studied for years and passed the bar exam, but she had no idea how to navigate the legal system effectively. One day, she found herself in a precarious situation, and she knew she needed to act quickly. She reached out to an experienced lawyer for advice, and over the next few months, she worked tirelessly to build a case that would ultimately win her the case she needed. Through perseverance and determination, Jane emerged victorious.\"\n",
      "\n",
      "3. Teacher: \"Maria had always been passionate about education, but she had never been an exceptional teacher. She had worked tirelessly to create a curriculum that would inspire her students, but she often struggled to keep them engaged and interested. One day, she found herself in a difficult situation, and she knew that she needed to find a way to make her classroom more engaging. She reached out to a gifted teacher for guidance, and over the next few weeks, she implemented several new strategies that helped her students excel. Maria's students became more engaged and enthusiastic about their studies, and she emerged victorious.\"\n",
      "\n",
      "4. Engineer: \"John had always been fascinated by engineering, but he had never considered a career in that field. He had spent years working in finance and accounting, but he knew that he wanted to pursue a more hands-on and creative career. One day, he stumbled upon a local engineering competition, and he knew that he had to enter. He worked tirelessly to design and build a complex system, and he was shocked to find out that he had won the competition. John emerged victorious, and he knew that he had found his calling.\"\n",
      "\n",
      "5. Scientist: \"Sarah had always been fascinated by science, but she had never considered a career in that field. She had spent years working as a nurse, but she knew that she wanted to pursue a more academic and research-oriented career. One day, she stumbled upon a prestigious scientific conference, and she knew that she had to attend. She met with some of the most respected scientists in the field, and she was amazed by their knowledge and expertise. Sarah emerged victorious, and she knew that she had found her calling.\"\n",
      "\n",
      "6. Chef: \"Anthony had always been passionate about cooking, but he had never considered a career in that field. He had spent years working in restaurants and catering services, but he knew that he wanted to pursue a more creative and artistic career. One day, he stumbled upon a local cooking competition, and he knew that he had to enter. He worked tirelessly to create a unique and innovative dish, and he was shocked to find out that he had won the competition. Anthony emerged victorious, and he knew that he had found his calling.\"\n",
      "\n",
      "7. Artist: \"Lucy had always been passionate about art, but she had never considered a career in that field. She had spent years working in marketing and advertising, but she knew that she wanted to pursue a more creative and unique career. One day, she stumbled upon a local art exhibition, and she knew that she had to attend. She met with some of the most talented artists in the region, and she was amazed by their creativity and skill. Lucy emerged victorious, and she knew that she had found her calling.\"\n",
      "\n",
      "8. Musician: \"Tom had always been passionate about music, but he had never considered a career in that field. He had spent years working in the corporate world, but he knew that he wanted to pursue a more creative and personal career. One day, he stumbled upon a local music competition, and he knew that he had to enter. He worked tirelessly to create a unique and innovative piece of music, and he was shocked to find out that he had won the competition. Tom emerged victorious, and he knew that he had found his calling.\"\n",
      "\n",
      "9. Writer: \"Emily had always been passionate about writing\n"
     ]
    }
   ],
   "source": [
    "\n",
    "from os import putenv\n",
    "putenv(\"HSA_OVERRIDE_GFX_VERSION\", \"10.3.0\")\n",
    "putenv(\"PYTORCH_ROCM_ARCH\", \"gfx1031\")\n",
    "\n",
    "import torch\n",
    "from transformers import pipeline\n",
    "\n",
    "pipe = pipeline(\"text-generation\", model=\"TinyLlama/TinyLlama-1.1B-Chat-v1.0\", torch_dtype=torch.bfloat16, device_map=\"auto\")\n",
    "\n",
    "# We use the tokenizer's chat template to format each message - see https://huggingface.co/docs/transformers/main/en/chat_templating\n",
    "messages = [\n",
    "    {\n",
    "        \"role\": \"system\",\n",
    "        \"content\": \"You are an AI model that generates three sentence stories about professionals. \\\n",
    "        You will receive a list of professions and you have to generate a story for each one.\",\n",
    "    },\n",
    "]\n",
    "\n",
    "professions = [\"doctor\", \"lawyer\", \"teacher\", \"engineer\", \"scientist\", \"chef\", \"artist\", \"musician\", \"writer\", \"athlete\"]\n",
    "\n",
    "\n",
    "messages.append({\"role\": \"user\", \"content\": str(professions)})\n",
    "prompt = pipe.tokenizer.apply_chat_template(messages, tokenize=False, add_generation_prompt=True)\n",
    "outputs = pipe(prompt, max_new_tokens=1024, do_sample=True, temperature=0.7, top_k=50, top_p=0.95)\n",
    "print(outputs[0][\"generated_text\"])\n",
    "\n"
   ]
  },
  {
   "cell_type": "code",
   "execution_count": null,
   "metadata": {},
   "outputs": [],
   "source": []
  }
 ],
 "metadata": {
  "kernelspec": {
   "display_name": "t3",
   "language": "python",
   "name": "python3"
  },
  "language_info": {
   "codemirror_mode": {
    "name": "ipython",
    "version": 3
   },
   "file_extension": ".py",
   "mimetype": "text/x-python",
   "name": "python",
   "nbconvert_exporter": "python",
   "pygments_lexer": "ipython3",
   "version": "3.11.9"
  }
 },
 "nbformat": 4,
 "nbformat_minor": 2
}
